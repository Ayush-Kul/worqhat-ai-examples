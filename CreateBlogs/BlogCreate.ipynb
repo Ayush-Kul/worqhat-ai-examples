{
 "cells": [
  {
   "cell_type": "code",
   "execution_count": null,
   "metadata": {},
   "outputs": [],
   "source": [
    "import requests\n",
    "import time\n",
    "import json\n",
    "from google.colab import files\n",
    "\n",
    "def callapi(fileArray, api_key, blog1, blog2):\n",
    "    start_time = time.time()\n",
    "    url = \"https://api.worqhat.com/api/ai/content/v4\"\n",
    "    payload = {\n",
    "        \"question\": f\"I am providing you with two blog entries that I previously wrote and some audio files that discuss my current thought process. Based on the audio, please draft my next blog post of exact or above 500 words. Ensure that the new blog aligns with the writing style of my previous blogs while incorporating the ideas from the audio recordings.Add Subheadings and make it as attractive to the reader as possible .Here are the blogs:\\n\\nBlog 1: {blog1}\\n\\nBlog 2: {blog2}\",\n",
    "        \"training_data\": f\"Analyze the provided audio files and blog content.Create a cohesive blog post that expands on the thought process from the audio while maintaining a similar writing style to the provided blogs. Return the result in markdown format with one heading and subheadings and keep the key as blog_post. \",\n",
    "        \"response_type\": \"json\",\n",
    "        \"model\": \"aicon-v4-nano-160824\",\n",
    "    }\n",
    "\n",
    "    headers = {\n",
    "        \"Authorization\": f\"Bearer {api_key}\",\n",
    "    }\n",
    "\n",
    "    print(\"The request is being sent...\")\n",
    "    response = requests.request(\n",
    "        \"POST\", url, headers=headers, data=payload, files=fileArray)\n",
    "    end_time = time.time()  \n",
    "    duration = end_time - start_time  \n",
    "    if response.status_code == 200:\n",
    "        return response.json(), round(duration, 2)\n",
    "    else:\n",
    "        print(\"The request failed.\")\n",
    "        return None, round(duration, 2)\n"
   ]
  },
  {
   "cell_type": "code",
   "execution_count": null,
   "metadata": {},
   "outputs": [],
   "source": [
    "# Get API key from user\n",
    "api_key = input(\"Enter your WorqHat API Key: \")\n",
    "\n",
    "# Get previous blog entries\n",
    "blog1 = input(\"Enter your first blog here: \")\n",
    "blog2 = input(\"Enter your second blog here: \")\n",
    "\n",
    "# Get audio files using Google Colab upload feature\n",
    "print(\"Upload audio files discussing your thought process (mp3, wav, ogg):\")\n",
    "uploaded_audios = files.upload()\n",
    "\n",
    "# Create fileArray with the desired format\n",
    "fileArray = [\n",
    "    ('files', (file_name, file_content, 'audio/mpeg')) \n",
    "    for file_name, file_content in uploaded_audios.items()\n",
    "]\n",
    "\n",
    "# Call the API\n",
    "if fileArray:\n",
    "    response_v2, duration_v2 = callapi(fileArray, api_key, blog1, blog2)\n",
    "    if response_v2:\n",
    "        print(response_v2)\n",
    "        content = response_v2.get('content', '')\n",
    "        try:\n",
    "            parsed_content = json.loads(content)\n",
    "            print(f\"✅ Blog generated successfully! (Time taken: {duration_v2} seconds)\")\n",
    "            print(parsed_content.get('blog_post', ''))\n",
    "        except json.JSONDecodeError:\n",
    "            print(\"❌ Failed to parse the response content. Please check the API response.\")\n",
    "    else:\n",
    "        print(\"❌ Failed to generate the blog post.\")\n",
    "else:\n",
    "    print(\"No audio files uploaded.\")"
   ]
  }
 ],
 "metadata": {
  "language_info": {
   "name": "python"
  }
 },
 "nbformat": 4,
 "nbformat_minor": 2
}
