{
 "cells": [
  {
   "cell_type": "markdown",
   "metadata": {},
   "source": [
    "Copyright 2024 WorqHat."
   ]
  },
  {
   "cell_type": "code",
   "execution_count": 10,
   "metadata": {},
   "outputs": [],
   "source": [
    "#@title Licensed under the Apache License, Version 2.0 (the \"License\");\n",
    "# you may not use this file except in compliance with the License.\n",
    "# You may obtain a copy of the License at\n",
    "#\n",
    "# https://www.apache.org/licenses/LICENSE-2.0\n",
    "#\n",
    "# Unless required by applicable law or agreed to in writing, software\n",
    "# distributed under the License is distributed on an \"AS IS\" BASIS,\n",
    "# WITHOUT WARRANTIES OR CONDITIONS OF ANY KIND, either express or implied.\n",
    "# See the License for the specific language governing permissions and\n",
    "# limitations under the License."
   ]
  },
  {
   "cell_type": "markdown",
   "metadata": {},
   "source": [
    "This notebook showcases the powerful capabilities of the WorqHat API for multimodal content generation. By leveraging audio, images, videos, and text files together in a single prompt, you can unlock a world of possibilities for creating engaging and informative blog posts.\n",
    "\n",
    "Imagine having a treasure trove of inspiration at your fingertips - voice memos you've recorded on the go, capturing your most brilliant ideas; images you've snapped that perfectly illustrate your points; and even relevant snippets from your previous articles. With the WorqHat API, you can seamlessly integrate all these elements to craft a truly immersive and compelling blog post.\n",
    "\n",
    "But the potential doesn't stop there. You can even extract features from the web to further enrich your content. Perhaps you want to include the latest statistics or a trending quote related to your topic. The WorqHat API can intelligently gather and incorporate this information, ensuring your blog post is always up-to-date and relevant.\n",
    "\n",
    "And for those seeking even more innovation, the possibilities are endless. Maybe you want to generate personalized content based on each reader's preferences, or create interactive elements that allow readers to explore your ideas in a hands-on way. With the WorqHat API's advanced capabilities, you can push the boundaries of what's possible in blog post creation.\n",
    "\n",
    "So whether you're a seasoned blogger looking to take your content to the next level, or just starting out and in need of some creative inspiration, this notebook will guide you through the process of leveraging the WorqHat API to generate truly remarkable blog posts. Get ready to unleash your creativity like never before!"
   ]
  },
  {
   "cell_type": "markdown",
   "metadata": {},
   "source": [
    "## Setup WorqHat API Key"
   ]
  },
  {
   "cell_type": "code",
   "execution_count": 23,
   "metadata": {},
   "outputs": [],
   "source": [
    "WORQHAT_API_KEY = input(\"Please Enter your WorqHat API KEY\")\n",
    "WORQHAT_ENDPOINT_URL = \"https://api.worqhat.com/api/ai/content/v4\""
   ]
  },
  {
   "cell_type": "code",
   "execution_count": 24,
   "metadata": {},
   "outputs": [],
   "source": [
    "# Now we will start working on the code."
   ]
  },
  {
   "cell_type": "code",
   "execution_count": 25,
   "metadata": {},
   "outputs": [],
   "source": [
    "# Import necessary libraries\n",
    "import os\n",
    "import requests\n",
    "from requests.structures import CaseInsensitiveDict\n",
    "import json\n",
    "import base64\n",
    "import time"
   ]
  },
  {
   "cell_type": "code",
   "execution_count": 26,
   "metadata": {},
   "outputs": [],
   "source": [
    "# Set any global variables here\n",
    "\n",
    "global_web_content = None\n",
    "global_files = []\n",
    "global_past_blog_posts = []"
   ]
  },
  {
   "cell_type": "code",
   "execution_count": 27,
   "metadata": {},
   "outputs": [],
   "source": [
    "# Fetch data from the web or a YouTube video\n",
    "\n",
    "# Step 1: Ask the user for the source they want to use\n",
    "source = input(\"Enter the source you want to use (e.g., URL, YouTube video link \")"
   ]
  },
  {
   "cell_type": "code",
   "execution_count": 28,
   "metadata": {},
   "outputs": [
    {
     "name": "stdout",
     "output_type": "stream",
     "text": [
      "No source provided. Skipping data fetching.\n"
     ]
    }
   ],
   "source": [
    "# Step 2: If the source is provided, fetch the data and pass it to the function\n",
    "def fetch_web_content(web_source):\n",
    "    global global_web_content\n",
    "\n",
    "    headers = CaseInsensitiveDict()\n",
    "    headers['Authorization'] = f\"Bearer {WORQHAT_API_KEY}\"\n",
    "    headers['Content-Type'] = 'application/json'  # Ensure the content type is set to application/json\n",
    "\n",
    "    payload = json.dumps({\n",
    "        'question': f\"Get me a brief summary of the following source: {web_source}\",\n",
    "        'model': 'aicon-v4-alpha-160824',\n",
    "    })\n",
    "\n",
    "    response = requests.request(\"POST\", WORQHAT_ENDPOINT_URL, headers=headers, data=payload)\n",
    "\n",
    "    if response.status_code == 200:\n",
    "        response_data = response.json()\n",
    "        print(\"Response received:\", json.dumps(response_data, indent=4))\n",
    "        global_web_content = response_data['content']\n",
    "    else:\n",
    "        print(\"Error:\", response.status_code, response.text)\n",
    "\n",
    "if source:\n",
    "    # Fetch data from the web or a YouTube video based on the provided source\n",
    "    fetch_web_content(source)\n",
    "else:\n",
    "    print(\"No source provided.Try Again\")"
   ]
  }
 ],
 "metadata": {
  "kernelspec": {
   "display_name": "Python 3",
   "language": "python",
   "name": "python3"
  },
  "language_info": {
   "codemirror_mode": {
    "name": "ipython",
    "version": 3
   },
   "file_extension": ".py",
   "mimetype": "text/x-python",
   "name": "python",
   "nbconvert_exporter": "python",
   "pygments_lexer": "ipython3",
   "version": "3.11.4"
  }
 },
 "nbformat": 4,
 "nbformat_minor": 2
}
